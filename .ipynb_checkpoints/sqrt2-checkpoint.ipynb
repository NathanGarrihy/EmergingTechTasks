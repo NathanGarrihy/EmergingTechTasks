{
 "cells": [
  {
   "cell_type": "markdown",
   "metadata": {},
   "source": [
    "# Python function called sqrt2 that calculates and prints to the screen the square root of 2 to 100 decimal places."
   ]
  },
  {
   "cell_type": "code",
   "execution_count": 164,
   "metadata": {},
   "outputs": [],
   "source": [
    "def Sqrt2():\n",
    "    # This constant is not fully required but can be changed\n",
    "    # in order to find the square root of a different number\n",
    "    SQRTNUM = 2;\n",
    "    # googol = 10 to the power of 100\n",
    "    GOOGOL = 10**100\n",
    "    # 'num' variable  = num value of 2 * googol^2. This\n",
    "    # moves numbers to the left side of the decimal place\n",
    "    num = SQRTNUM *(GOOGOL)**2\n",
    "    a = 0\n",
    "    b = GOOGOL\n",
    "\n",
    "    # Loop until accuracy is sufficiant\n",
    "    # Keeps running until a == b\n",
    "    while a != b:\n",
    "        # Set a to b\n",
    "        a = b\n",
    "        # Get the floor division + Bit shift num 1 place to the right\n",
    "        b = (a+(num//a)) >> 1\n",
    "    # finalVal contains the numbers to the right of decimal place\n",
    "    finalVal = b-(GOOGOL)\n",
    "    # Code for potential future re-use could\n",
    "    # change SQRTNUM and return leftNum and finalVaL\n",
    "    # leftNum = int((b - finalVal)/GOOGOL)\n",
    "    \n",
    "    return \"1.%d\"%finalVal"
   ]
  },
  {
   "cell_type": "markdown",
   "metadata": {},
   "source": [
    "Print square root of 2"
   ]
  },
  {
   "cell_type": "code",
   "execution_count": 165,
   "metadata": {},
   "outputs": [
    {
     "name": "stdout",
     "output_type": "stream",
     "text": [
      "1.4142135623730950488016887242096980785696718753769480731766797379907324784621070388503875343276415727\n"
     ]
    }
   ],
   "source": [
    "print(Sqrt2())"
   ]
  },
  {
   "cell_type": "code",
   "execution_count": null,
   "metadata": {},
   "outputs": [],
   "source": []
  }
 ],
 "metadata": {
  "kernelspec": {
   "display_name": "Python 3",
   "language": "python",
   "name": "python3"
  },
  "language_info": {
   "codemirror_mode": {
    "name": "ipython",
    "version": 3
   },
   "file_extension": ".py",
   "mimetype": "text/x-python",
   "name": "python",
   "nbconvert_exporter": "python",
   "pygments_lexer": "ipython3",
   "version": "3.8.3"
  }
 },
 "nbformat": 4,
 "nbformat_minor": 4
}
