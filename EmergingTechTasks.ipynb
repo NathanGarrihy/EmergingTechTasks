{
 "cells": [
  {
   "cell_type": "markdown",
   "metadata": {},
   "source": [
    "# Emerging Technology Tasks\n",
    "Solutions to my tasks assessment for emerging technology module. Author: Nathan Garrihy"
   ]
  },
  {
   "cell_type": "markdown",
   "metadata": {},
   "source": [
    "### Python function called sqrt2 that calculates and prints to the screen the square root of 2 to 100 decimal places.\n",
    "I used a googol value to store the numbers on the right side of the decimal place as a whole number to allow 100 decimal place output to screen. The program iterates a few guesses to what the sqrt is and then returns the square root of 2 value when the guess is equal to the previous guess!\n",
    "\n",
    "[1] Newton Raphson's Method - https://surajregmi.medium.com/how-to-calculate-the-square-root-of-a-number-newton-raphson-method-f8007714f64\n",
    "\n",
    "[2] NASA's Square Root of 2 to 1 million decimals - https://apod.nasa.gov/htmltest/gifcity/sqrt2.1mil\n",
    "\n",
    "![NewtonRaphson](https://media.geeksforgeeks.org/wp-content/cdn-uploads/newtonraphsonformula.png \"Newton's Method\")\n"
   ]
  },
  {
   "cell_type": "code",
   "execution_count": 164,
   "metadata": {},
   "outputs": [],
   "source": [
    "def Sqrt2():\n",
    "    # This constant is not fully required but can be changed\n",
    "    # in order to find the square root of a different number\n",
    "    SQRTNUM = 2;\n",
    "    # googol = 10 to the power of 100\n",
    "    GOOGOL = 10**100\n",
    "    # 'num' variable  = num value of 2 * googol^2. This\n",
    "    # moves numbers to the left side of the decimal place\n",
    "    num = SQRTNUM *(GOOGOL)**2\n",
    "    a = 0\n",
    "    b = GOOGOL\n",
    "\n",
    "    # Loop until accuracy is sufficiant\n",
    "    # Keeps running until a == b\n",
    "    while a != b:\n",
    "        # Set a to b\n",
    "        a = b\n",
    "        # Get the floor division + Bit shift num 1 place to the right\n",
    "        b = (a+(num//a)) >> 1\n",
    "    # finalVal contains the numbers to the right of decimal place\n",
    "    finalVal = b-(GOOGOL)\n",
    "    # Code for potential future re-use could\n",
    "    # change SQRTNUM and return leftNum and finalVaL\n",
    "    # leftNum = int((b - finalVal)/GOOGOL)\n",
    "    \n",
    "    return \"1.%d\"%finalVal"
   ]
  },
  {
   "cell_type": "markdown",
   "metadata": {},
   "source": [
    "Print square root of 2"
   ]
  },
  {
   "cell_type": "code",
   "execution_count": 165,
   "metadata": {},
   "outputs": [
    {
     "name": "stdout",
     "output_type": "stream",
     "text": [
      "1.4142135623730950488016887242096980785696718753769480731766797379907324784621070388503875343276415727\n"
     ]
    }
   ],
   "source": [
    "print(Sqrt2())"
   ]
  },
  {
   "cell_type": "markdown",
   "metadata": {},
   "source": [
    "ReadME file is located on the main branch of my github repository"
   ]
  },
  {
   "cell_type": "markdown",
   "metadata": {},
   "source": [
    "### Using scipy.stats to verify this value  of a given table and calculate the associated p value\n",
    "Here, I perform a Chi-square test of independence of variables in a contingency table. This tests the values stored in whiteCol, blueCol and noCol and returns values which can be used to determine whether or not the categorical variables\n",
    "are independent. \n",
    "\n",
    "[1] scipy.stats documentation - https://docs.scipy.org/doc/scipy/reference/stats.html\n",
    "\n",
    "[2] scipy.stats.chi2contingency documentation - https://docs.scipy.org/doc/scipy/reference/generated/scipy.stats.chi2_contingency.html "
   ]
  },
  {
   "cell_type": "code",
   "execution_count": 5,
   "metadata": {},
   "outputs": [],
   "source": [
    "# scipy.stats module for probability distributions and \n",
    "import scipy.stats as stats\n",
    "\n",
    "# Table row values stored as arrays\n",
    "whiteCol = [90, 60, 104, 95]\n",
    "blueCol = [30, 50, 51, 20]\n",
    "noCol = [30, 40, 45, 35]\n",
    "\n",
    "# Values put into 2-Dimentional Array\n",
    "a = [whiteCol]+[blueCol]+[noCol]\n",
    "\n",
    "# Use stats.chi2_contingency() function to compute the chi-square \n",
    "# statistic and p-value for the test of the observed frequencies \n",
    "# in the contingency table. The degrees of freedom which is the number \n",
    "# of independent observations in a set of data. It also returns the \n",
    "# expected frequencies, based on the marginal sums of the table.\n",
    "V, p, dof, expected = stats.chi2_contingency(a)"
   ]
  },
  {
   "cell_type": "markdown",
   "metadata": {},
   "source": [
    "Print stats.chi2_contingency() values to screen"
   ]
  },
  {
   "cell_type": "code",
   "execution_count": 14,
   "metadata": {},
   "outputs": [
    {
     "name": "stdout",
     "output_type": "stream",
     "text": [
      "========================================================\n",
      " Chi-squared value based on the table = 24.5712028585826 \n",
      " The p-value of the test = 0.0004098425861096696 \n",
      " Degrees of freedom = 6 \n",
      " The expected frequencies:\n",
      " [[ 80.53846154  80.53846154 107.38461538  80.53846154]\n",
      " [ 34.84615385  34.84615385  46.46153846  34.84615385]\n",
      " [ 34.61538462  34.61538462  46.15384615  34.61538462]] \n",
      "========================================================\n"
     ]
    }
   ],
   "source": [
    "print(\"========================================================\\n\",\n",
    "      \"Chi-squared value based on the table =\",V,\"\\n\",\n",
    "      \"The p-value of the test =\", p,\"\\n\",\n",
    "      \"Degrees of freedom =\", dof,\"\\n\",\n",
    "      \"The expected frequencies:\\n\", expected,\"\\n\"\n",
    "     \"========================================================\")"
   ]
  },
  {
   "cell_type": "markdown",
   "metadata": {},
   "source": [
    "![ChiSquaredDistribution](https://www.statisticshowto.com/wp-content/uploads/2014/11/chi-square-distribution.png \"Chi Squared Distribution\")\n",
    "##### Chi Squared Distribution\n",
    "In this graph the y-axis represents the p value and the x-axis represents the value for x squared. Each coloured line represents a different value for degrees of freedom."
   ]
  },
  {
   "cell_type": "markdown",
   "metadata": {},
   "source": [
    "- The [Wikipedia article](https://en.wikipedia.org/w/index.php?title=Chi-squared_test&oldid=983024096) stated that the approximate chi-squared value based on the table was 24.6, which was correct as my result was 24.57, which rounds up to 24.6.\n",
    "- The 'p' value was <0.001 which is lower than the significance level (0.05).\n",
    "- The 'degrees of freedom' = '(r-1)(c-1)' where r = total number of rows and c = total number of columns. In this case the degrees of freedom is 6, so there are 6 independant values that the statistical analysis can estimate.\n",
    "- The expected frequencies are estimated frequencies for each cell based on our values."
   ]
  },
  {
   "cell_type": "markdown",
   "metadata": {},
   "source": [
    "**The null hypothesis is that each person's neighbourhood of residence is independent of the person's occupational classification. I used this chi square test to check if a relationship exists between the categories and based on my results, I reject this null hypothesis. There is no clear evidence to make me accept this hypothesis as a corrolation between neightborhood of residence and occupational classifaction can be seen, proving lack of independence**"
   ]
  },
  {
   "cell_type": "markdown",
   "metadata": {},
   "source": [
    "## Task 3\n",
    "### Research STDEV.P and STDEV.S excel functions and demonstrate their functionality and the differences between them"
   ]
  },
  {
   "cell_type": "markdown",
   "metadata": {},
   "source": [
    "In this piece of code, I use numpy, which offers comprehensive mathematical functions, random number generators, linear algebra routines and more. In this example I use numPy to calculate the population standard deviation, as well as the sample standard deviation on the same sample data set in order to show that they do not do the same thing.\n",
    "\n",
    "[1] stdev.s documentation - https://support.microsoft.com/en-us/office/stdev-s-function-7d69cf97-0c1f-4acf-be27-f3e83904cc23\n",
    "\n",
    "[2] stdev.p documentation - https://support.microsoft.com/en-us/office/stdev-p-function-6e917c05-31a0-496f-ade7-4f4e7462f285\n",
    "\n",
    "[3] standard deviation - http://mathbitsnotebook.com/Algebra1/StatisticsData/STPopSample.html"
   ]
  },
  {
   "cell_type": "code",
   "execution_count": 8,
   "metadata": {},
   "outputs": [
    {
     "name": "stdout",
     "output_type": "stream",
     "text": [
      "Population deviation = 6.324555320336759\n",
      "Sample deviation = 6.244997998398398\n"
     ]
    }
   ],
   "source": [
    "import numpy as np\n",
    "\n",
    "x = [0,2,4,6,8,10,12,14,16,18,20]\n",
    "\n",
    "#print(np.std(x))\n",
    "## np.std returns population standard deviation\n",
    "print(\"Population deviation =\",np.sqrt(np.sum((x-np.mean(x))**2)/len(x)))\n",
    "print(\"Sample deviation =\",np.sqrt(np.sum((x-np.mean(x))**2)/len(x)-1))"
   ]
  },
  {
   "attachments": {
    "image.png": {
     "image/png": "[encoded data removed]"
    }
   },
   "cell_type": "markdown",
   "metadata": {},
   "source": [
    "*Standard deviation is a measure of how widely values are dispersed from the mean value.*\n",
    "\n",
    "**STDEV.P**\n",
    "![image.png](attachment:image.png)\n",
    "n = sample size\n",
    "<br/>\n",
    "x = sample mean average\n",
    "<br/><br/>\n",
    "The **population** Standard Deviation is a calculation which is performed on a full data set. In excel, STEV.P assumes that its arguments are the entire population of data. Stev.p calculates standard deviation based on the entire population value given as arguments.<br/>\n",
    "e.g. All of the people who live in Galway"
   ]
  },
  {
   "attachments": {
    "image.png": {
     "image/png": "[encoded data removed]"
    }
   },
   "cell_type": "markdown",
   "metadata": {},
   "source": [
    "***STDEV.S***\n",
    "![image.png](attachment:image.png)\n",
    "n = sample size\n",
    "<br/>\n",
    "x = sample mean average\n",
    "<br/><br/>\n",
    "The **sample** standard deviation is performed on a data set which is a subset of the population data. i.e. The sample data set must be smaller than that of the population data set and its values must be part of the population sample. <br/>\n",
    "e.g. 1000 people who live in galway"
   ]
  },
  {
   "cell_type": "markdown",
   "metadata": {},
   "source": [
    "We use **population standard deviation** when we are certain that we have the entire population. We also use it when we have some sample data and only want to find the standard deviation of this data set, without generalizing our findings to the entire larger population.\n",
    "<br/>\n",
    "We use **Sample standard deviation** when we have a sample of a larger population and want to generalize our findings from the sample to get a reasonabl estimate on what the standard deviation is"
   ]
  },
  {
   "cell_type": "markdown",
   "metadata": {},
   "source": [
    "**When finding standard deviation, if you do not have the full data set and you only have a \"sample\" of the data, it is essential to use the stdev.s function, as since we do not know the whole data set, we cannot just guess what the rest of the numbers will be and must make an estimate based on the numbers we already have. As we see in the above data set, we have numbers from 0 - 20 going up in two's. If we assume this is a complete data set, it is ok to use population deviation. However, if we know this is an incomplete data set, there is no way to tell what the next numbers will be / how many there will be so this is where a sample standard deviation is effective at providing us with an accurate standard deviation of a sample data set.**"
   ]
  },
  {
   "cell_type": "code",
   "execution_count": null,
   "metadata": {},
   "outputs": [],
   "source": []
  }
 ],
 "metadata": {
  "kernelspec": {
   "display_name": "Python 3",
   "language": "python",
   "name": "python3"
  },
  "language_info": {
   "codemirror_mode": {
    "name": "ipython",
    "version": 3
   },
   "file_extension": ".py",
   "mimetype": "text/x-python",
   "name": "python",
   "nbconvert_exporter": "python",
   "pygments_lexer": "ipython3",
   "version": "3.8.3"
  }
 },
 "nbformat": 4,
 "nbformat_minor": 4
}
